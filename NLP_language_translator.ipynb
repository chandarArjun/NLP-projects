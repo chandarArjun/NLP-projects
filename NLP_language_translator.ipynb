{
  "nbformat": 4,
  "nbformat_minor": 0,
  "metadata": {
    "colab": {
      "name": "NLP language translator.ipynb",
      "provenance": [],
      "collapsed_sections": []
    },
    "kernelspec": {
      "name": "python3",
      "display_name": "Python 3"
    },
    "language_info": {
      "name": "python"
    }
  },
  "cells": [
    {
      "cell_type": "code",
      "execution_count": null,
      "metadata": {
        "id": "KwDyljnH3VZV"
      },
      "outputs": [],
      "source": [
        "import concurrent.futures\n",
        "import requests\n",
        "import re\n",
        "import os"
      ]
    },
    {
      "cell_type": "code",
      "source": [
        "class EasyGoogleTranslate:\n",
        "    def __init__(self, source_language='auto', target_language='tr', timeout=5):\n",
        "        self.source_language = source_language\n",
        "        self.target_language = target_language\n",
        "        self.timeout = timeout\n",
        "        self.pattern = r'(?s)class=\"(?:t0|result-container)\">(.*?)<'\n",
        "\n",
        "    def make_request(self, target_language, source_language, text, timeout):\n",
        "        url = 'https://translate.google.com/m?tl=%s&sl=%s&q=%s'%(target_language, source_language, text)\n",
        "        response = requests.get(url, timeout=timeout)\n",
        "        result = response.text.encode('utf8').decode('utf8')\n",
        "        result = re.findall(self.pattern, result)\n",
        "        if not result:\n",
        "            print('\\nError: Unknown error.')\n",
        "            f = open('error.txt')\n",
        "            f.write(response.text)\n",
        "            f.close()\n",
        "            exit(0)\n",
        "        return result[0]\n",
        "\n",
        "    def translate(self, text, target_language='', source_language='', timeout=''):\n",
        "        if not target_language:\n",
        "            target_language = self.target_language\n",
        "        if not source_language:\n",
        "            source_language = self.source_language\n",
        "        if not timeout:\n",
        "            timeout = self.timeout\n",
        "        if len(text) > 5000:\n",
        "            print('\\nError: It can only detect 5000 characters at once. (%d characters found.)'%(len(text)))\n",
        "            exit(0)    \n",
        "        if type(target_language) is list:\n",
        "            with concurrent.futures.ThreadPoolExecutor() as executor:\n",
        "                futures = [executor.submit(self.make_request, target, source_language, text, timeout) for target in target_language]\n",
        "                return_value = [f.result() for f in futures]\n",
        "                return return_value\n",
        "        return self.make_request(target_language, source_language, text, timeout)\n",
        "\n",
        "    def translate_file(self, file_path, target_language='', source_language='', timeout=''):\n",
        "        if not os.path.isfile(file_path):\n",
        "            print('\\nError: The file or path is incorrect.')\n",
        "            exit(0)\n",
        "        f = open(file_path)\n",
        "        text = self.translate(f.read(), target_language, source_language, timeout)\n",
        "        f.close()\n",
        "        return text\n"
      ],
      "metadata": {
        "id": "PrJjnL_E3izh"
      },
      "execution_count": null,
      "outputs": []
    },
    {
      "cell_type": "code",
      "source": [
        "#5: Translate a file in multiple languages at once via multi-threading.\n",
        "from easygoogletranslate import EasyGoogleTranslate\n",
        "import pandas as pd\n",
        "translator = EasyGoogleTranslate()\n",
        "text = \"Everything is fine\"\n"
      ],
      "metadata": {
        "id": "lYN4GRPT3iui"
      },
      "execution_count": 52,
      "outputs": []
    },
    {
      "cell_type": "code",
      "source": [
        "from sys import exit\n",
        "result = translator.translate(text, target_language=['es', 'fr', 'de'])\n",
        "print(result)\n",
        "\n"
      ],
      "metadata": {
        "colab": {
          "base_uri": "https://localhost:8080/"
        },
        "id": "rhhk7cqxIYKA",
        "outputId": "217ddc75-7193-4905-ac78-cef99d52c5ea"
      },
      "execution_count": 53,
      "outputs": [
        {
          "output_type": "stream",
          "name": "stdout",
          "text": [
            "['Todo esta bien', 'Tout va bien', 'Alles ist gut']\n"
          ]
        }
      ]
    },
    {
      "cell_type": "code",
      "source": [
        "#5: Translate a file in multiple languages at once via multi-threading.\n",
        "from easygoogletranslate import EasyGoogleTranslate\n",
        "import pandas as pd\n",
        "translator = EasyGoogleTranslate()\n",
        "text = pd.read_fwf('/content/drive/MyDrive/English.txt',encoding= 'unicode_escape')\n"
      ],
      "metadata": {
        "id": "vJNwFWgsIyhS"
      },
      "execution_count": 54,
      "outputs": []
    },
    {
      "cell_type": "code",
      "source": [
        "#from sys import exit\n",
        "result = translator.translate(text, target_language=['es', 'fr', 'de'])\n",
        "print(result)\n",
        "sys.exit(0)\n",
        "#Here the code show error as the file size is larger. we can reduce the size by removing some repeated rows from the data...\n",
        "#It showing the Error: It can only detect 5000 characters at once. (175621 characters found.).Else the code can run the data."
      ],
      "metadata": {
        "colab": {
          "base_uri": "https://localhost:8080/",
          "height": 374
        },
        "id": "_vV48bpSIk85",
        "outputId": "fbe1f701-ef09-4086-9738-312ac937d936"
      },
      "execution_count": 56,
      "outputs": [
        {
          "output_type": "stream",
          "name": "stdout",
          "text": [
            "\n",
            "Error: It can only detect 5000 characters at once. (175621 characters found.)\n"
          ]
        },
        {
          "output_type": "error",
          "ename": "NameError",
          "evalue": "ignored",
          "traceback": [
            "\u001b[0;31m---------------------------------------------------------------------------\u001b[0m",
            "\u001b[0;31mNameError\u001b[0m                                 Traceback (most recent call last)",
            "\u001b[0;32m<ipython-input-56-033da549b7db>\u001b[0m in \u001b[0;36m<module>\u001b[0;34m()\u001b[0m\n\u001b[1;32m      1\u001b[0m \u001b[0;31m#from sys import exit\u001b[0m\u001b[0;34m\u001b[0m\u001b[0;34m\u001b[0m\u001b[0;34m\u001b[0m\u001b[0m\n\u001b[0;32m----> 2\u001b[0;31m \u001b[0mresult\u001b[0m \u001b[0;34m=\u001b[0m \u001b[0mtranslator\u001b[0m\u001b[0;34m.\u001b[0m\u001b[0mtranslate\u001b[0m\u001b[0;34m(\u001b[0m\u001b[0mtext\u001b[0m\u001b[0;34m,\u001b[0m \u001b[0mtarget_language\u001b[0m\u001b[0;34m=\u001b[0m\u001b[0;34m[\u001b[0m\u001b[0;34m'es'\u001b[0m\u001b[0;34m,\u001b[0m \u001b[0;34m'fr'\u001b[0m\u001b[0;34m,\u001b[0m \u001b[0;34m'de'\u001b[0m\u001b[0;34m]\u001b[0m\u001b[0;34m)\u001b[0m\u001b[0;34m\u001b[0m\u001b[0;34m\u001b[0m\u001b[0m\n\u001b[0m\u001b[1;32m      3\u001b[0m \u001b[0mprint\u001b[0m\u001b[0;34m(\u001b[0m\u001b[0mresult\u001b[0m\u001b[0;34m)\u001b[0m\u001b[0;34m\u001b[0m\u001b[0;34m\u001b[0m\u001b[0m\n\u001b[1;32m      4\u001b[0m \u001b[0msys\u001b[0m\u001b[0;34m.\u001b[0m\u001b[0mexit\u001b[0m\u001b[0;34m(\u001b[0m\u001b[0;36m0\u001b[0m\u001b[0;34m)\u001b[0m\u001b[0;34m\u001b[0m\u001b[0;34m\u001b[0m\u001b[0m\n",
            "\u001b[0;32m/usr/local/lib/python3.7/dist-packages/easygoogletranslate/easygoogletranslate.py\u001b[0m in \u001b[0;36mtranslate\u001b[0;34m(self, text, target_language, source_language, timeout)\u001b[0m\n\u001b[1;32m     79\u001b[0m         \u001b[0;32mif\u001b[0m \u001b[0mlen\u001b[0m\u001b[0;34m(\u001b[0m\u001b[0mtext\u001b[0m\u001b[0;34m)\u001b[0m \u001b[0;34m>\u001b[0m \u001b[0;36m5000\u001b[0m\u001b[0;34m:\u001b[0m\u001b[0;34m\u001b[0m\u001b[0;34m\u001b[0m\u001b[0m\n\u001b[1;32m     80\u001b[0m             \u001b[0mprint\u001b[0m\u001b[0;34m(\u001b[0m\u001b[0;34m'\\nError: It can only detect 5000 characters at once. (%d characters found.)'\u001b[0m\u001b[0;34m%\u001b[0m\u001b[0;34m(\u001b[0m\u001b[0mlen\u001b[0m\u001b[0;34m(\u001b[0m\u001b[0mtext\u001b[0m\u001b[0;34m)\u001b[0m\u001b[0;34m)\u001b[0m\u001b[0;34m)\u001b[0m\u001b[0;34m\u001b[0m\u001b[0;34m\u001b[0m\u001b[0m\n\u001b[0;32m---> 81\u001b[0;31m             \u001b[0mexit\u001b[0m\u001b[0;34m(\u001b[0m\u001b[0;36m0\u001b[0m\u001b[0;34m)\u001b[0m\u001b[0;34m\u001b[0m\u001b[0;34m\u001b[0m\u001b[0m\n\u001b[0m\u001b[1;32m     82\u001b[0m         \u001b[0;32mif\u001b[0m \u001b[0mtype\u001b[0m\u001b[0;34m(\u001b[0m\u001b[0mtarget_language\u001b[0m\u001b[0;34m)\u001b[0m \u001b[0;32mis\u001b[0m \u001b[0mlist\u001b[0m\u001b[0;34m:\u001b[0m\u001b[0;34m\u001b[0m\u001b[0;34m\u001b[0m\u001b[0m\n\u001b[1;32m     83\u001b[0m             \u001b[0;32mwith\u001b[0m \u001b[0mconcurrent\u001b[0m\u001b[0;34m.\u001b[0m\u001b[0mfutures\u001b[0m\u001b[0;34m.\u001b[0m\u001b[0mThreadPoolExecutor\u001b[0m\u001b[0;34m(\u001b[0m\u001b[0;34m)\u001b[0m \u001b[0;32mas\u001b[0m \u001b[0mexecutor\u001b[0m\u001b[0;34m:\u001b[0m\u001b[0;34m\u001b[0m\u001b[0;34m\u001b[0m\u001b[0m\n",
            "\u001b[0;31mNameError\u001b[0m: name 'exit' is not defined"
          ]
        }
      ]
    },
    {
      "cell_type": "code",
      "source": [
        "from easygoogletranslate import EasyGoogleTranslate\n",
        "\n",
        "translator = EasyGoogleTranslate(\n",
        "    source_language='en',\n",
        "    target_language='de',\n",
        "    timeout=10\n",
        ")\n",
        "result = translator.translate('All is well .')\n",
        "\n",
        "print(result) \n"
      ],
      "metadata": {
        "colab": {
          "base_uri": "https://localhost:8080/"
        },
        "id": "eDbR0SQ9HP7W",
        "outputId": "ef147166-160e-49c3-b758-58b3284e4dc9"
      },
      "execution_count": 48,
      "outputs": [
        {
          "output_type": "stream",
          "name": "stdout",
          "text": [
            "Alles ist gut .\n"
          ]
        }
      ]
    },
    {
      "cell_type": "code",
      "source": [
        "from easygoogletranslate import EasyGoogleTranslate\n",
        "\n",
        "translator = EasyGoogleTranslate()\n",
        "result = translator.translate('All is well.', target_language=['ta')\n",
        "\n",
        "print(result)"
      ],
      "metadata": {
        "colab": {
          "base_uri": "https://localhost:8080/"
        },
        "id": "HXjYY-5PHdnq",
        "outputId": "598749ee-5a0a-4729-cb0d-d18ec54494c9"
      },
      "execution_count": 49,
      "outputs": [
        {
          "output_type": "stream",
          "name": "stdout",
          "text": [
            "எல்லாம் நன்றாக இருக்கிறது.\n"
          ]
        }
      ]
    },
    {
      "cell_type": "code",
      "source": [
        "from easygoogletranslate import EasyGoogleTranslate\n",
        "\n",
        "translator = EasyGoogleTranslate(target_language='en')\n",
        "result = translator.translate('all is Well.', target_language='es')\n",
        "\n",
        "print(result)"
      ],
      "metadata": {
        "colab": {
          "base_uri": "https://localhost:8080/"
        },
        "id": "JML5IzfWHdgi",
        "outputId": "92662053-5fde-43e0-fbc7-9fbf00ff7a39"
      },
      "execution_count": 51,
      "outputs": [
        {
          "output_type": "stream",
          "name": "stdout",
          "text": [
            "todo está bien.\n"
          ]
        }
      ]
    },
    {
      "cell_type": "code",
      "source": [
        ""
      ],
      "metadata": {
        "id": "SNNSPzh9HJYG"
      },
      "execution_count": null,
      "outputs": []
    }
  ]
}